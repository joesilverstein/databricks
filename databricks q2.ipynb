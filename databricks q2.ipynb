{
 "cells": [
  {
   "cell_type": "code",
   "execution_count": 1,
   "metadata": {
    "collapsed": false
   },
   "outputs": [],
   "source": [
    "#import pandas as pd\n",
    "#df = pd.read_csv('data/forestfires.csv')\n",
    "#n = df.shape[0]\n",
    "#x = list(df['X'])\n",
    "#y = list(df['area'])\n",
    "\n",
    "import random\n",
    "x = [random.uniform(0,100) for _ in range(1,100)]\n",
    "y = [random.uniform(0,100) for _ in range(1,100)]\n",
    "n = 100"
   ]
  },
  {
   "cell_type": "code",
   "execution_count": 2,
   "metadata": {
    "collapsed": false
   },
   "outputs": [
    {
     "data": {
      "text/plain": [
       "float"
      ]
     },
     "execution_count": 2,
     "metadata": {},
     "output_type": "execute_result"
    }
   ],
   "source": [
    "type(x[1])"
   ]
  },
  {
   "cell_type": "code",
   "execution_count": 21,
   "metadata": {
    "collapsed": false
   },
   "outputs": [
    {
     "name": "stdout",
     "output_type": "stream",
     "text": [
      "0.7210656785475983\n"
     ]
    }
   ],
   "source": [
    "n = len(y) + 1\n",
    "b0 = 1.0\n",
    "w = [1] * n\n",
    "b1 = 2.0\n",
    "while abs(b1 - b0) > 10**(-4):\n",
    "    b0 = b1\n",
    "    b1 = sum([w * x * y for w, x, y in zip(w, x, y)]) / sum([w * x**2 for w, x in zip(w, x)])\n",
    "    w = [1 / max(0.0001, abs(y - x * b1)) for x, y in zip(x, y)]\n",
    "print(b1)"
   ]
  },
  {
   "cell_type": "code",
   "execution_count": 5,
   "metadata": {
    "collapsed": false
   },
   "outputs": [
    {
     "name": "stdout",
     "output_type": "stream",
     "text": [
      "0.7211343633075292\n"
     ]
    }
   ],
   "source": [
    "print(b0)"
   ]
  },
  {
   "cell_type": "code",
   "execution_count": 6,
   "metadata": {
    "collapsed": false
   },
   "outputs": [
    {
     "name": "stdout",
     "output_type": "stream",
     "text": [
      "0.7210656785475983\n"
     ]
    }
   ],
   "source": [
    "print(b1)"
   ]
  },
  {
   "cell_type": "code",
   "execution_count": 7,
   "metadata": {
    "collapsed": false
   },
   "outputs": [
    {
     "name": "stdout",
     "output_type": "stream",
     "text": [
      "[0.021172651338741976, 0.1371023495726735, 0.07741950848740323, 0.038585052975616284, 0.025027139095931104, 0.015044902385571199, 0.017524952817092335, 0.019143778065274206, 0.12050805486961491, 206.0256667132676, 0.033443601347644424, 0.0459070446867554, 0.0345558482410468, 0.09803566147406523, 0.043129717499052506, 0.011926798087813287, 0.0616964125875815, 0.16799415015690303, 0.08082421432902316, 1.3992889173811192, 0.028100608704159237, 0.018673893718732373, 0.025998784945605462, 0.058103554804464025, 0.12730261204973822, 0.09302824642161521, 0.06513281033499968, 0.11502370037901678, 0.06814542065140702, 0.02508281922474079, 0.021573999248275456, 0.012947652018086767, 0.014957069496010595, 0.09547766190215233, 0.0338556070703563, 0.04602122749128605, 0.020524020659291205, 0.034553827661969544, 0.04630068303166281, 0.028638123084472288, 0.06144905974655307, 0.13366868849534172, 0.20385159534478828, 0.020502601306731497, 0.012722627741171864, 0.09898901557204474, 0.021941093554693657, 0.3146778967812178, 0.013448498377165947, 0.04951159407549388, 0.06550261531707738, 0.015724724456050027, 0.08694259172332015, 0.08977134260127494, 0.019972917012234723, 0.011481076113345966, 0.014394367110841504, 0.13507915847604815, 0.011565667927186956, 0.0344605011069859, 0.02787764311786941, 0.03698381326340248, 0.02389906020752639, 0.03057819898809205, 0.01900061514137764, 0.03995712642522758, 0.020484042793341338, 0.06638512688089372, 0.04246731821808132, 0.0356018686088381, 0.032860581698483944, 0.46650361688782077, 0.08182750000862202, 0.014863425172397405, 0.011817576048885057, 0.021270160327104545, 0.02187641494398027, 0.05302607423148457, 0.037434682885107595, 0.09183285670798144, 0.0442680873200251, 0.014887482339385466, 0.031327714692188854, 0.11549973253698595, 0.02212586604915649, 0.028322439420197375, 0.6393520278799534, 0.018006969777558935, 0.013615720232962251, 0.04059316479506303, 0.04103298525604258, 0.037515460802646554, 0.032967957190446096, 0.03897266564809984, 0.024200720822045316, 0.0953725015773857, 0.019668686040309215, 0.021224645810016568, 0.02947040739526601]\n"
     ]
    }
   ],
   "source": [
    "print(w)"
   ]
  },
  {
   "cell_type": "code",
   "execution_count": 16,
   "metadata": {
    "collapsed": false
   },
   "outputs": [
    {
     "data": {
      "text/plain": [
       "3252.5726872179007"
      ]
     },
     "execution_count": 16,
     "metadata": {},
     "output_type": "execute_result"
    }
   ],
   "source": [
    "sum([abs(b1 * x - y) for x, y in zip(x, y)])"
   ]
  },
  {
   "cell_type": "code",
   "execution_count": 20,
   "metadata": {
    "collapsed": false
   },
   "outputs": [
    {
     "data": {
      "text/plain": [
       "99"
      ]
     },
     "execution_count": 20,
     "metadata": {},
     "output_type": "execute_result"
    }
   ],
   "source": [
    "len(w)"
   ]
  },
  {
   "cell_type": "code",
   "execution_count": null,
   "metadata": {
    "collapsed": true
   },
   "outputs": [],
   "source": []
  }
 ],
 "metadata": {
  "anaconda-cloud": {},
  "kernelspec": {
   "display_name": "Python [conda root]",
   "language": "python",
   "name": "conda-root-py"
  },
  "language_info": {
   "codemirror_mode": {
    "name": "ipython",
    "version": 3
   },
   "file_extension": ".py",
   "mimetype": "text/x-python",
   "name": "python",
   "nbconvert_exporter": "python",
   "pygments_lexer": "ipython3",
   "version": "3.5.2"
  }
 },
 "nbformat": 4,
 "nbformat_minor": 1
}
